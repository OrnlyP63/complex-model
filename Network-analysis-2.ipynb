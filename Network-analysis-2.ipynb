{
 "cells": [
  {
   "cell_type": "markdown",
   "id": "babd18bf-d184-4c00-9f1b-19db67f7ed87",
   "metadata": {},
   "source": [
    "# Dynamics of Continuous-State Networks\n",
    "\n",
    "$$\\frac{dx}{dt} = F(x)$$\n",
    "\n",
    "can be considered a dynamical network if the state space is multidimensional.\n",
    "\n",
    "the dynamics of node $i$’s state is determined by the $i$-th dimensional part of $F$, and if that part refers to the state vector’s $j$-th component, then node $j$ is connected to node $i$, and so on.\n",
    "\n",
    "![](./dynamic-net.png)"
   ]
  },
  {
   "cell_type": "code",
   "execution_count": null,
   "id": "ac525478-29aa-4eac-bc2e-ebe118965d83",
   "metadata": {},
   "outputs": [],
   "source": []
  },
  {
   "cell_type": "code",
   "execution_count": null,
   "id": "3e2714d5-7175-45a7-9b26-5d38a4be3522",
   "metadata": {},
   "outputs": [],
   "source": []
  },
  {
   "cell_type": "code",
   "execution_count": null,
   "id": "2d5b8f89-9a97-4eab-a480-f40f91ae70f5",
   "metadata": {},
   "outputs": [],
   "source": []
  },
  {
   "cell_type": "code",
   "execution_count": null,
   "id": "ad25dc4b-96c4-4cae-85ef-a15d81e0e604",
   "metadata": {},
   "outputs": [],
   "source": []
  },
  {
   "cell_type": "code",
   "execution_count": null,
   "id": "148204f5-af00-4778-abde-dd27013dee45",
   "metadata": {},
   "outputs": [],
   "source": []
  }
 ],
 "metadata": {
  "kernelspec": {
   "display_name": "AIML",
   "language": "python",
   "name": "aiml"
  },
  "language_info": {
   "codemirror_mode": {
    "name": "ipython",
    "version": 3
   },
   "file_extension": ".py",
   "mimetype": "text/x-python",
   "name": "python",
   "nbconvert_exporter": "python",
   "pygments_lexer": "ipython3",
   "version": "3.8.12"
  }
 },
 "nbformat": 4,
 "nbformat_minor": 5
}
